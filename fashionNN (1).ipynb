{
 "cells": [
  {
   "cell_type": "markdown",
   "metadata": {},
   "source": [
    "# Neural Network for Detection of Fashion Item Images\n",
    "\n",
    "### Importing the libraries\n",
    "\n",
    "import tensorflow as tf\n",
    "from tensorflow import keras\n",
    "import numpy as np\n",
    "import pandas as pd\n",
    "import matplotlib.pyplot as plt"
   ]
  },
  {
   "cell_type": "markdown",
   "metadata": {},
   "source": [
    "## Preparing the Dataset\n",
    "\n",
    "### Importing data from keras : fashion_mnist\n",
    "\n",
    "data=keras.datasets.fashion_mnist"
   ]
  },
  {
   "cell_type": "markdown",
   "metadata": {},
   "source": [
    "### Splitting data into train and test\n",
    "\n",
    "(train_images, train_labels),(test_images,test_labels)=data.load_data()"
   ]
  },
  {
   "cell_type": "markdown",
   "metadata": {},
   "source": [
    "### Saving the class names of the items in the fasion_mnist data\n",
    "\n",
    "class_names=['T-shirt/top','Trouser','Pullover','Dress','Coat','Sandal',\n",
    "'Shirt','Sneaker','Bag','Ankle boot']"
   ]
  },
  {
   "cell_type": "markdown",
   "metadata": {},
   "source": [
    "### Showing plots of the images\n",
    "\n",
    "plt.imshow(train_images[4000])\n",
    "plt.show()"
   ]
  },
  {
   "cell_type": "markdown",
   "metadata": {},
   "source": [
    "### Showing the real image\n",
    "\n",
    "plt.imshow(train_images[4000], cmap=plt.cm.binary)"
   ]
  },
  {
   "cell_type": "markdown",
   "metadata": {},
   "source": [
    "### RGB values of Images\n",
    "\n",
    "print(train_images[4000])"
   ]
  },
  {
   "cell_type": "markdown",
   "metadata": {},
   "source": [
    "### Standardizing the RGB Values in Images by dividing them by 255\n",
    "\n",
    "train_images=train_images/255.0\n",
    "test_images=test_images/255\n",
    "\n",
    "print(train_images[4000])"
   ]
  },
  {
   "cell_type": "markdown",
   "metadata": {},
   "source": [
    "## Creating the Tensorflow Model\n",
    "\n",
    "### Step 1 Flattening the data which means creating a list of 784 values from 28X28 matrix of RGB values\n",
    "\n",
    "### By flatteining the data, we are creating a list of 784 neurons as input layer to be fed in Neural Net\n",
    "\n",
    "### Model1 that carries 128 neurons' hidden layer and it will be fully connected with input and output layer\n",
    "\n",
    "model1=keras.Sequential([\n",
    "    keras.layers.Flatten(input_shape=(28,28)),\n",
    "    keras.layers.Dense(128,activation=\"relu\"),\n",
    "    keras.layers.Dense(10,activation='softmax')\n",
    "    ])\n",
    "\n",
    "model1.compile(optimizer='adam', loss=\"sparse_categorical_crossentropy\", metrics=[\"accuracy\"])\n",
    "\n",
    "model1.fit(train_images, train_labels, epochs=10)\n",
    "\n",
    "test_loss, test_acc=model1.evaluate(test_images,test_labels)\n",
    "\n",
    "print(\"Tested Acc:\", test_acc)"
   ]
  },
  {
   "cell_type": "markdown",
   "metadata": {},
   "source": [
    "### Prediction with the model\n",
    "\n",
    "prediction=model1.predict(test_images)\n",
    "\n",
    "print(prediction)\n",
    "\n"
   ]
  },
  {
   "cell_type": "code",
   "execution_count": 23,
   "metadata": {},
   "outputs": [
    {
     "name": "stdout",
     "output_type": "stream",
     "text": [
      "[9.9299243e-08 3.8604120e-09 9.4430801e-09 1.0102798e-11 7.1721700e-09\n",
      " 4.3783500e-04 1.2989234e-07 9.7503252e-03 1.0724809e-08 9.8981160e-01]\n"
     ]
    }
   ],
   "source": [
    "print(prediction[0])"
   ]
  },
  {
   "cell_type": "code",
   "execution_count": 27,
   "metadata": {},
   "outputs": [
    {
     "name": "stdout",
     "output_type": "stream",
     "text": [
      "Trouser\n"
     ]
    }
   ],
   "source": [
    "print(class_names[np.argmax(prediction[5])])"
   ]
  }
 ],
 "metadata": {
  "kernelspec": {
   "display_name": "Python 3",
   "language": "python",
   "name": "python3"
  },
  "language_info": {
   "codemirror_mode": {
    "name": "ipython",
    "version": 3
   },
   "file_extension": ".py",
   "mimetype": "text/x-python",
   "name": "python",
   "nbconvert_exporter": "python",
   "pygments_lexer": "ipython3",
   "version": "3.7.6"
  }
 },
 "nbformat": 4,
 "nbformat_minor": 4
}
